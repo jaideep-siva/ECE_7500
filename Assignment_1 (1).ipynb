{
  "cells": [
    {
      "cell_type": "markdown",
      "metadata": {
        "id": "yekKj-pvvsj4"
      },
      "source": [
        "# ECE_7500\n",
        "## Assignment 1\n",
        "## Jaideep Siva Senthil\n",
        "\n"
      ]
    },
    {
      "cell_type": "code",
      "execution_count": 116,
      "metadata": {
        "id": "5WwhW3nXxKXF"
      },
      "outputs": [],
      "source": [
        "#importing packages\n",
        "import pandas as pd\n",
        "import regex as re\n",
        "import string"
      ]
    },
    {
      "cell_type": "markdown",
      "metadata": {
        "id": "8wFcLX6oww06"
      },
      "source": [
        "# Dataset importing"
      ]
    },
    {
      "cell_type": "code",
      "execution_count": 117,
      "metadata": {
        "id": "yoiw_QBevsIJ"
      },
      "outputs": [],
      "source": [
        "#importing dataset\n",
        "\n",
        "url = 'https://raw.githubusercontent.com/jaideep-siva/Assignment_1/main/spam_ham_dataset.csv'\n",
        "df = pd.read_csv(url)\n"
      ]
    },
    {
      "cell_type": "markdown",
      "metadata": {
        "id": "RU06PQcj7Bx8"
      },
      "source": [
        "# Data analysis"
      ]
    },
    {
      "cell_type": "code",
      "execution_count": 118,
      "metadata": {
        "colab": {
          "base_uri": "https://localhost:8080/"
        },
        "id": "2qvmfGQF1qDO",
        "outputId": "5d75b373-d82b-4a76-97b9-f69578053fa5"
      },
      "outputs": [
        {
          "data": {
            "text/plain": [
              "(5171, 4)"
            ]
          },
          "execution_count": 118,
          "metadata": {},
          "output_type": "execute_result"
        }
      ],
      "source": [
        "# Dimensions of the data set\n",
        "df.shape"
      ]
    },
    {
      "cell_type": "code",
      "execution_count": 119,
      "metadata": {
        "colab": {
          "base_uri": "https://localhost:8080/",
          "height": 206
        },
        "id": "LhUGbdml616O",
        "outputId": "ce7e08bc-69f1-46e5-ff2c-6f556a72d5ed"
      },
      "outputs": [
        {
          "data": {
            "text/html": [
              "<div>\n",
              "<style scoped>\n",
              "    .dataframe tbody tr th:only-of-type {\n",
              "        vertical-align: middle;\n",
              "    }\n",
              "\n",
              "    .dataframe tbody tr th {\n",
              "        vertical-align: top;\n",
              "    }\n",
              "\n",
              "    .dataframe thead th {\n",
              "        text-align: right;\n",
              "    }\n",
              "</style>\n",
              "<table border=\"1\" class=\"dataframe\">\n",
              "  <thead>\n",
              "    <tr style=\"text-align: right;\">\n",
              "      <th></th>\n",
              "      <th>Unnamed: 0</th>\n",
              "      <th>label</th>\n",
              "      <th>text</th>\n",
              "      <th>label_num</th>\n",
              "    </tr>\n",
              "  </thead>\n",
              "  <tbody>\n",
              "    <tr>\n",
              "      <th>0</th>\n",
              "      <td>605</td>\n",
              "      <td>ham</td>\n",
              "      <td>Subject: enron methanol ; meter # : 988291\\r\\n...</td>\n",
              "      <td>0</td>\n",
              "    </tr>\n",
              "    <tr>\n",
              "      <th>1</th>\n",
              "      <td>2349</td>\n",
              "      <td>ham</td>\n",
              "      <td>Subject: hpl nom for january 9 , 2001\\r\\n( see...</td>\n",
              "      <td>0</td>\n",
              "    </tr>\n",
              "    <tr>\n",
              "      <th>2</th>\n",
              "      <td>3624</td>\n",
              "      <td>ham</td>\n",
              "      <td>Subject: neon retreat\\r\\nho ho ho , we ' re ar...</td>\n",
              "      <td>0</td>\n",
              "    </tr>\n",
              "    <tr>\n",
              "      <th>3</th>\n",
              "      <td>4685</td>\n",
              "      <td>spam</td>\n",
              "      <td>Subject: photoshop , windows , office . cheap ...</td>\n",
              "      <td>1</td>\n",
              "    </tr>\n",
              "    <tr>\n",
              "      <th>4</th>\n",
              "      <td>2030</td>\n",
              "      <td>ham</td>\n",
              "      <td>Subject: re : indian springs\\r\\nthis deal is t...</td>\n",
              "      <td>0</td>\n",
              "    </tr>\n",
              "  </tbody>\n",
              "</table>\n",
              "</div>"
            ],
            "text/plain": [
              "   Unnamed: 0 label                                               text  \\\n",
              "0         605   ham  Subject: enron methanol ; meter # : 988291\\r\\n...   \n",
              "1        2349   ham  Subject: hpl nom for january 9 , 2001\\r\\n( see...   \n",
              "2        3624   ham  Subject: neon retreat\\r\\nho ho ho , we ' re ar...   \n",
              "3        4685  spam  Subject: photoshop , windows , office . cheap ...   \n",
              "4        2030   ham  Subject: re : indian springs\\r\\nthis deal is t...   \n",
              "\n",
              "   label_num  \n",
              "0          0  \n",
              "1          0  \n",
              "2          0  \n",
              "3          1  \n",
              "4          0  "
            ]
          },
          "execution_count": 119,
          "metadata": {},
          "output_type": "execute_result"
        }
      ],
      "source": [
        "# sample values from data set\n",
        "df.head()"
      ]
    },
    {
      "cell_type": "markdown",
      "metadata": {
        "id": "qnBjpca615dY"
      },
      "source": [
        "> It appears that data frame consists of 4 columns with 2 label coluns, one text column and one column with count."
      ]
    },
    {
      "cell_type": "code",
      "execution_count": 120,
      "metadata": {
        "colab": {
          "base_uri": "https://localhost:8080/"
        },
        "id": "rOk3IAnp8M8B",
        "outputId": "0cf82907-fcc9-4bfa-a579-288e398e534b"
      },
      "outputs": [
        {
          "data": {
            "text/plain": [
              "label\n",
              "ham     3672\n",
              "spam    1499\n",
              "Name: count, dtype: int64"
            ]
          },
          "execution_count": 120,
          "metadata": {},
          "output_type": "execute_result"
        }
      ],
      "source": [
        "# understanding the date split\n",
        "df['label'].value_counts()"
      ]
    },
    {
      "cell_type": "markdown",
      "metadata": {
        "id": "6ADvXHLQ8Web"
      },
      "source": [
        "> There appears to be a class imbalance with hame emails having twice as more data points as spam emails"
      ]
    },
    {
      "cell_type": "code",
      "execution_count": 121,
      "metadata": {
        "colab": {
          "base_uri": "https://localhost:8080/"
        },
        "id": "GqyrCuaXAvPk",
        "outputId": "5f5564e9-031e-4a35-aef0-d451782f2fd7"
      },
      "outputs": [
        {
          "data": {
            "text/plain": [
              "Unnamed: 0    0\n",
              "label         0\n",
              "text          0\n",
              "label_num     0\n",
              "dtype: int64"
            ]
          },
          "execution_count": 121,
          "metadata": {},
          "output_type": "execute_result"
        }
      ],
      "source": [
        "#checking for nonexistent values\n",
        "df.isna().sum()"
      ]
    },
    {
      "cell_type": "markdown",
      "metadata": {
        "id": "c8CRLr7s2cha"
      },
      "source": [
        "# Data preprocessing"
      ]
    },
    {
      "cell_type": "code",
      "execution_count": 122,
      "metadata": {
        "id": "qFtjXPx62bMF"
      },
      "outputs": [],
      "source": [
        "class data_preprocessing:\n",
        "\n",
        "  def __init__(self,dataframe):\n",
        "    self.data = df\n",
        "\n",
        "\n",
        "  def lower_text(self,text):\n",
        "    \"\"\"\n",
        "        Lowercases all text to make it easier to process.\n",
        "        :param text: The input text to be converted to lowercase.\n",
        "        :return: Lowercased text.\n",
        "        \"\"\"\n",
        "    text = text.lower()\n",
        "    return text\n",
        "\n",
        "  def remove_subject_re(self,text):\n",
        "    \"\"\"\n",
        "        Removes \"Subject:\" and \"Re:\" from emails since they seem to have no inherent value and appear in all emails.\n",
        "        :param text: The input text, typically an email subject line.\n",
        "        :return: Text with \"Subject:\" and \"Re:\" removed.\n",
        "        \"\"\"\n",
        "    text = re.sub(r'^\\s*subject:\\s*(re\\s*:)?\\s*', '', text)\n",
        "    return text\n",
        "\n",
        "  def remove_numbers(self,text):\n",
        "    \"\"\"\n",
        "        Removes numbers, as dates and random number values may not contribute meaningful information.\n",
        "        :param text: The input text possibly containing numbers.\n",
        "        :return: Text with numbers removed.\n",
        "        \"\"\"\n",
        "    text = re.sub(r'[0-9]+', '', text)\n",
        "    return text\n",
        "\n",
        "  def remove_punctuations(self,text):\n",
        "    \"\"\"\n",
        "        Removes punctuations to prevent random characters from becoming tokens, which can make the text corpus too large.\n",
        "        :param text: The input text that may contain punctuation.\n",
        "        :return: Text with punctuation removed.\n",
        "        \"\"\"\n",
        "    text = re.sub(r'[^\\w\\s]', '', text)\n",
        "    return text"
      ]
    },
    {
      "cell_type": "code",
      "execution_count": 123,
      "metadata": {
        "colab": {
          "base_uri": "https://localhost:8080/",
          "height": 206
        },
        "id": "DZiMzZPxBw2c",
        "outputId": "111747e7-2d4a-432c-8a90-6ff5082829fb"
      },
      "outputs": [
        {
          "data": {
            "text/html": [
              "<div>\n",
              "<style scoped>\n",
              "    .dataframe tbody tr th:only-of-type {\n",
              "        vertical-align: middle;\n",
              "    }\n",
              "\n",
              "    .dataframe tbody tr th {\n",
              "        vertical-align: top;\n",
              "    }\n",
              "\n",
              "    .dataframe thead th {\n",
              "        text-align: right;\n",
              "    }\n",
              "</style>\n",
              "<table border=\"1\" class=\"dataframe\">\n",
              "  <thead>\n",
              "    <tr style=\"text-align: right;\">\n",
              "      <th></th>\n",
              "      <th>Unnamed: 0</th>\n",
              "      <th>label</th>\n",
              "      <th>text</th>\n",
              "      <th>label_num</th>\n",
              "    </tr>\n",
              "  </thead>\n",
              "  <tbody>\n",
              "    <tr>\n",
              "      <th>0</th>\n",
              "      <td>605</td>\n",
              "      <td>ham</td>\n",
              "      <td>subject: enron methanol ; meter # : 988291\\r\\n...</td>\n",
              "      <td>0</td>\n",
              "    </tr>\n",
              "    <tr>\n",
              "      <th>1</th>\n",
              "      <td>2349</td>\n",
              "      <td>ham</td>\n",
              "      <td>subject: hpl nom for january 9 , 2001\\r\\n( see...</td>\n",
              "      <td>0</td>\n",
              "    </tr>\n",
              "    <tr>\n",
              "      <th>2</th>\n",
              "      <td>3624</td>\n",
              "      <td>ham</td>\n",
              "      <td>subject: neon retreat\\r\\nho ho ho , we ' re ar...</td>\n",
              "      <td>0</td>\n",
              "    </tr>\n",
              "    <tr>\n",
              "      <th>3</th>\n",
              "      <td>4685</td>\n",
              "      <td>spam</td>\n",
              "      <td>subject: photoshop , windows , office . cheap ...</td>\n",
              "      <td>1</td>\n",
              "    </tr>\n",
              "    <tr>\n",
              "      <th>4</th>\n",
              "      <td>2030</td>\n",
              "      <td>ham</td>\n",
              "      <td>subject: re : indian springs\\r\\nthis deal is t...</td>\n",
              "      <td>0</td>\n",
              "    </tr>\n",
              "  </tbody>\n",
              "</table>\n",
              "</div>"
            ],
            "text/plain": [
              "   Unnamed: 0 label                                               text  \\\n",
              "0         605   ham  subject: enron methanol ; meter # : 988291\\r\\n...   \n",
              "1        2349   ham  subject: hpl nom for january 9 , 2001\\r\\n( see...   \n",
              "2        3624   ham  subject: neon retreat\\r\\nho ho ho , we ' re ar...   \n",
              "3        4685  spam  subject: photoshop , windows , office . cheap ...   \n",
              "4        2030   ham  subject: re : indian springs\\r\\nthis deal is t...   \n",
              "\n",
              "   label_num  \n",
              "0          0  \n",
              "1          0  \n",
              "2          0  \n",
              "3          1  \n",
              "4          0  "
            ]
          },
          "execution_count": 123,
          "metadata": {},
          "output_type": "execute_result"
        }
      ],
      "source": [
        "# lowercasing all text in df\n",
        "df['text'] = df['text'].apply(lambda x: data_preprocessing(df).lower_text(x))\n",
        "\n",
        "df.head()\n"
      ]
    },
    {
      "cell_type": "code",
      "execution_count": 124,
      "metadata": {
        "colab": {
          "base_uri": "https://localhost:8080/",
          "height": 206
        },
        "id": "pyye5yV-Go1e",
        "outputId": "64c9a64c-d2a5-45f6-8ff3-d555216a8aeb"
      },
      "outputs": [
        {
          "data": {
            "text/html": [
              "<div>\n",
              "<style scoped>\n",
              "    .dataframe tbody tr th:only-of-type {\n",
              "        vertical-align: middle;\n",
              "    }\n",
              "\n",
              "    .dataframe tbody tr th {\n",
              "        vertical-align: top;\n",
              "    }\n",
              "\n",
              "    .dataframe thead th {\n",
              "        text-align: right;\n",
              "    }\n",
              "</style>\n",
              "<table border=\"1\" class=\"dataframe\">\n",
              "  <thead>\n",
              "    <tr style=\"text-align: right;\">\n",
              "      <th></th>\n",
              "      <th>Unnamed: 0</th>\n",
              "      <th>label</th>\n",
              "      <th>text</th>\n",
              "      <th>label_num</th>\n",
              "    </tr>\n",
              "  </thead>\n",
              "  <tbody>\n",
              "    <tr>\n",
              "      <th>0</th>\n",
              "      <td>605</td>\n",
              "      <td>ham</td>\n",
              "      <td>enron methanol ; meter # : 988291\\r\\nthis is a...</td>\n",
              "      <td>0</td>\n",
              "    </tr>\n",
              "    <tr>\n",
              "      <th>1</th>\n",
              "      <td>2349</td>\n",
              "      <td>ham</td>\n",
              "      <td>hpl nom for january 9 , 2001\\r\\n( see attached...</td>\n",
              "      <td>0</td>\n",
              "    </tr>\n",
              "    <tr>\n",
              "      <th>2</th>\n",
              "      <td>3624</td>\n",
              "      <td>ham</td>\n",
              "      <td>neon retreat\\r\\nho ho ho , we ' re around to t...</td>\n",
              "      <td>0</td>\n",
              "    </tr>\n",
              "    <tr>\n",
              "      <th>3</th>\n",
              "      <td>4685</td>\n",
              "      <td>spam</td>\n",
              "      <td>photoshop , windows , office . cheap . main tr...</td>\n",
              "      <td>1</td>\n",
              "    </tr>\n",
              "    <tr>\n",
              "      <th>4</th>\n",
              "      <td>2030</td>\n",
              "      <td>ham</td>\n",
              "      <td>indian springs\\r\\nthis deal is to book the tec...</td>\n",
              "      <td>0</td>\n",
              "    </tr>\n",
              "  </tbody>\n",
              "</table>\n",
              "</div>"
            ],
            "text/plain": [
              "   Unnamed: 0 label                                               text  \\\n",
              "0         605   ham  enron methanol ; meter # : 988291\\r\\nthis is a...   \n",
              "1        2349   ham  hpl nom for january 9 , 2001\\r\\n( see attached...   \n",
              "2        3624   ham  neon retreat\\r\\nho ho ho , we ' re around to t...   \n",
              "3        4685  spam  photoshop , windows , office . cheap . main tr...   \n",
              "4        2030   ham  indian springs\\r\\nthis deal is to book the tec...   \n",
              "\n",
              "   label_num  \n",
              "0          0  \n",
              "1          0  \n",
              "2          0  \n",
              "3          1  \n",
              "4          0  "
            ]
          },
          "execution_count": 124,
          "metadata": {},
          "output_type": "execute_result"
        }
      ],
      "source": [
        "# removing Subject: and re: from text\n",
        "df['text'] = df['text'].apply(lambda x: data_preprocessing(df).remove_subject_re(x))\n",
        "\n",
        "df.head()"
      ]
    },
    {
      "cell_type": "code",
      "execution_count": 125,
      "metadata": {
        "colab": {
          "base_uri": "https://localhost:8080/",
          "height": 206
        },
        "id": "kUOYiLZRG-Ch",
        "outputId": "d40a9e83-a3a9-4cd4-d744-f4015a6fc72f"
      },
      "outputs": [
        {
          "data": {
            "text/html": [
              "<div>\n",
              "<style scoped>\n",
              "    .dataframe tbody tr th:only-of-type {\n",
              "        vertical-align: middle;\n",
              "    }\n",
              "\n",
              "    .dataframe tbody tr th {\n",
              "        vertical-align: top;\n",
              "    }\n",
              "\n",
              "    .dataframe thead th {\n",
              "        text-align: right;\n",
              "    }\n",
              "</style>\n",
              "<table border=\"1\" class=\"dataframe\">\n",
              "  <thead>\n",
              "    <tr style=\"text-align: right;\">\n",
              "      <th></th>\n",
              "      <th>Unnamed: 0</th>\n",
              "      <th>label</th>\n",
              "      <th>text</th>\n",
              "      <th>label_num</th>\n",
              "    </tr>\n",
              "  </thead>\n",
              "  <tbody>\n",
              "    <tr>\n",
              "      <th>0</th>\n",
              "      <td>605</td>\n",
              "      <td>ham</td>\n",
              "      <td>enron methanol ; meter # : \\r\\nthis is a follo...</td>\n",
              "      <td>0</td>\n",
              "    </tr>\n",
              "    <tr>\n",
              "      <th>1</th>\n",
              "      <td>2349</td>\n",
              "      <td>ham</td>\n",
              "      <td>hpl nom for january  , \\r\\n( see attached file...</td>\n",
              "      <td>0</td>\n",
              "    </tr>\n",
              "    <tr>\n",
              "      <th>2</th>\n",
              "      <td>3624</td>\n",
              "      <td>ham</td>\n",
              "      <td>neon retreat\\r\\nho ho ho , we ' re around to t...</td>\n",
              "      <td>0</td>\n",
              "    </tr>\n",
              "    <tr>\n",
              "      <th>3</th>\n",
              "      <td>4685</td>\n",
              "      <td>spam</td>\n",
              "      <td>photoshop , windows , office . cheap . main tr...</td>\n",
              "      <td>1</td>\n",
              "    </tr>\n",
              "    <tr>\n",
              "      <th>4</th>\n",
              "      <td>2030</td>\n",
              "      <td>ham</td>\n",
              "      <td>indian springs\\r\\nthis deal is to book the tec...</td>\n",
              "      <td>0</td>\n",
              "    </tr>\n",
              "  </tbody>\n",
              "</table>\n",
              "</div>"
            ],
            "text/plain": [
              "   Unnamed: 0 label                                               text  \\\n",
              "0         605   ham  enron methanol ; meter # : \\r\\nthis is a follo...   \n",
              "1        2349   ham  hpl nom for january  , \\r\\n( see attached file...   \n",
              "2        3624   ham  neon retreat\\r\\nho ho ho , we ' re around to t...   \n",
              "3        4685  spam  photoshop , windows , office . cheap . main tr...   \n",
              "4        2030   ham  indian springs\\r\\nthis deal is to book the tec...   \n",
              "\n",
              "   label_num  \n",
              "0          0  \n",
              "1          0  \n",
              "2          0  \n",
              "3          1  \n",
              "4          0  "
            ]
          },
          "execution_count": 125,
          "metadata": {},
          "output_type": "execute_result"
        }
      ],
      "source": [
        "# applying remove numbers \n",
        "df['text'] = df['text'].apply(lambda x: data_preprocessing(df).remove_numbers(x))\n",
        "df.head()"
      ]
    },
    {
      "cell_type": "code",
      "execution_count": 126,
      "metadata": {
        "colab": {
          "base_uri": "https://localhost:8080/",
          "height": 206
        },
        "id": "rd82C80oHJ_w",
        "outputId": "4b2a4f67-b383-4427-87f6-ffa6309b768f"
      },
      "outputs": [
        {
          "data": {
            "text/html": [
              "<div>\n",
              "<style scoped>\n",
              "    .dataframe tbody tr th:only-of-type {\n",
              "        vertical-align: middle;\n",
              "    }\n",
              "\n",
              "    .dataframe tbody tr th {\n",
              "        vertical-align: top;\n",
              "    }\n",
              "\n",
              "    .dataframe thead th {\n",
              "        text-align: right;\n",
              "    }\n",
              "</style>\n",
              "<table border=\"1\" class=\"dataframe\">\n",
              "  <thead>\n",
              "    <tr style=\"text-align: right;\">\n",
              "      <th></th>\n",
              "      <th>Unnamed: 0</th>\n",
              "      <th>label</th>\n",
              "      <th>text</th>\n",
              "      <th>label_num</th>\n",
              "    </tr>\n",
              "  </thead>\n",
              "  <tbody>\n",
              "    <tr>\n",
              "      <th>0</th>\n",
              "      <td>605</td>\n",
              "      <td>ham</td>\n",
              "      <td>enron methanol  meter   \\r\\nthis is a follow u...</td>\n",
              "      <td>0</td>\n",
              "    </tr>\n",
              "    <tr>\n",
              "      <th>1</th>\n",
              "      <td>2349</td>\n",
              "      <td>ham</td>\n",
              "      <td>hpl nom for january   \\r\\n see attached file  ...</td>\n",
              "      <td>0</td>\n",
              "    </tr>\n",
              "    <tr>\n",
              "      <th>2</th>\n",
              "      <td>3624</td>\n",
              "      <td>ham</td>\n",
              "      <td>neon retreat\\r\\nho ho ho  we  re around to tha...</td>\n",
              "      <td>0</td>\n",
              "    </tr>\n",
              "    <tr>\n",
              "      <th>3</th>\n",
              "      <td>4685</td>\n",
              "      <td>spam</td>\n",
              "      <td>photoshop  windows  office  cheap  main trendi...</td>\n",
              "      <td>1</td>\n",
              "    </tr>\n",
              "    <tr>\n",
              "      <th>4</th>\n",
              "      <td>2030</td>\n",
              "      <td>ham</td>\n",
              "      <td>indian springs\\r\\nthis deal is to book the tec...</td>\n",
              "      <td>0</td>\n",
              "    </tr>\n",
              "  </tbody>\n",
              "</table>\n",
              "</div>"
            ],
            "text/plain": [
              "   Unnamed: 0 label                                               text  \\\n",
              "0         605   ham  enron methanol  meter   \\r\\nthis is a follow u...   \n",
              "1        2349   ham  hpl nom for january   \\r\\n see attached file  ...   \n",
              "2        3624   ham  neon retreat\\r\\nho ho ho  we  re around to tha...   \n",
              "3        4685  spam  photoshop  windows  office  cheap  main trendi...   \n",
              "4        2030   ham  indian springs\\r\\nthis deal is to book the tec...   \n",
              "\n",
              "   label_num  \n",
              "0          0  \n",
              "1          0  \n",
              "2          0  \n",
              "3          1  \n",
              "4          0  "
            ]
          },
          "execution_count": 126,
          "metadata": {},
          "output_type": "execute_result"
        }
      ],
      "source": [
        "# applying remove punctuations \n",
        "df['text'] = df['text'].apply(lambda x: data_preprocessing(df).remove_punctuations(x))\n",
        "df.head()"
      ]
    },
    {
      "cell_type": "markdown",
      "metadata": {
        "id": "3hZFgXyRHSnd"
      },
      "source": [
        "# Feature Extraction"
      ]
    },
    {
      "cell_type": "markdown",
      "metadata": {
        "id": "fB8P-oIOLunm"
      },
      "source": [
        "## Class and functions for feature extraction"
      ]
    },
    {
      "cell_type": "code",
      "execution_count": 127,
      "metadata": {
        "id": "MyfhWMINHkAL"
      },
      "outputs": [],
      "source": [
        "class feature_extraction:\n",
        "    \"\"\"\n",
        "    Initializes the FeatureExtraction class with a DataFrame containing 'text' and 'label' columns.\n",
        "    :param data: A DataFrame with 'text' and 'label' columns.\n",
        "    \"\"\"\n",
        "    def __init__(self, data):\n",
        "        self.data = data\n",
        "        self.frequency_dict = {} # ceating an empty dict to store the feature vectirs\n",
        "\n",
        "    def build_frequency_dict(self):\n",
        "        \"\"\"\n",
        "        Builds a frequency dictionary that counts the occurrences of words associated with 'spam' and 'ham' labels in the data.\n",
        "        \"\"\"\n",
        "        for index, row in self.data.iterrows():\n",
        "            words = row['text'].split()     # split the email into words\n",
        "            label = row['label']    # get the label of the email 'spam' or 'ham'\n",
        "            for word in words:\n",
        "                # Update the frequency count for each word and its associated label.\n",
        "                if (word, label) in self.frequency_dict:\n",
        "                    self.frequency_dict[(word, label)] += 1\n",
        "                else:\n",
        "                    self.frequency_dict[(word, label)] = 1\n",
        "\n",
        "    def extract_features(self, text):\n",
        "        \"\"\"\n",
        "        Extracts features from a given text, including bias, spam frequency, and ham frequency.\n",
        "        :param text: The input text to extract features from.\n",
        "        :return: A tuple containing bias, spam frequency, and ham frequency.\n",
        "        \"\"\"\n",
        "        words = text.split()    #split the word into texts\n",
        "        bias = 1    #initializing a default bias of 1\n",
        "        spam_frequency = 0  #initalizing spam word frequency \n",
        "        ham_frequency = 0   #intializing ham word frequency\n",
        "        for word in words:\n",
        "            # Retrieve word frequencies from the pre-built frequency dictionary.\n",
        "            spam_frequency += self.frequency_dict.get((word, 'spam'), 0)\n",
        "            ham_frequency += self.frequency_dict.get((word, 'ham'), 0)\n",
        "        return bias, spam_frequency, ham_frequency\n"
      ]
    },
    {
      "cell_type": "markdown",
      "metadata": {
        "id": "XP3cXHZqLzVz"
      },
      "source": [
        "## Getting features"
      ]
    },
    {
      "cell_type": "code",
      "execution_count": 102,
      "metadata": {
        "id": "bC_bRIf6LEHK"
      },
      "outputs": [],
      "source": [
        "feature_extractor.build_frequency_dict()\n",
        "df['features'] = df['text'].apply(feature_extractor.extract_features)\n"
      ]
    },
    {
      "cell_type": "code",
      "execution_count": 103,
      "metadata": {
        "colab": {
          "base_uri": "https://localhost:8080/",
          "height": 206
        },
        "id": "AT0u-NR7SRE9",
        "outputId": "b6d45b99-b065-4a04-8102-e6e698a074cb"
      },
      "outputs": [
        {
          "data": {
            "text/html": [
              "<div>\n",
              "<style scoped>\n",
              "    .dataframe tbody tr th:only-of-type {\n",
              "        vertical-align: middle;\n",
              "    }\n",
              "\n",
              "    .dataframe tbody tr th {\n",
              "        vertical-align: top;\n",
              "    }\n",
              "\n",
              "    .dataframe thead th {\n",
              "        text-align: right;\n",
              "    }\n",
              "</style>\n",
              "<table border=\"1\" class=\"dataframe\">\n",
              "  <thead>\n",
              "    <tr style=\"text-align: right;\">\n",
              "      <th></th>\n",
              "      <th>Unnamed: 0</th>\n",
              "      <th>label</th>\n",
              "      <th>text</th>\n",
              "      <th>label_num</th>\n",
              "      <th>features</th>\n",
              "    </tr>\n",
              "  </thead>\n",
              "  <tbody>\n",
              "    <tr>\n",
              "      <th>0</th>\n",
              "      <td>605</td>\n",
              "      <td>ham</td>\n",
              "      <td>enron methanol  meter   \\r\\nthis is a follow u...</td>\n",
              "      <td>0</td>\n",
              "      <td>(1, 46320, 136187)</td>\n",
              "    </tr>\n",
              "    <tr>\n",
              "      <th>1</th>\n",
              "      <td>2349</td>\n",
              "      <td>ham</td>\n",
              "      <td>hpl nom for january   \\r\\n see attached file  ...</td>\n",
              "      <td>0</td>\n",
              "      <td>(1, 2815, 16376)</td>\n",
              "    </tr>\n",
              "    <tr>\n",
              "      <th>2</th>\n",
              "      <td>3624</td>\n",
              "      <td>ham</td>\n",
              "      <td>neon retreat\\r\\nho ho ho  we  re around to tha...</td>\n",
              "      <td>0</td>\n",
              "      <td>(1, 635297, 1466796)</td>\n",
              "    </tr>\n",
              "    <tr>\n",
              "      <th>3</th>\n",
              "      <td>4685</td>\n",
              "      <td>spam</td>\n",
              "      <td>photoshop  windows  office  cheap  main trendi...</td>\n",
              "      <td>1</td>\n",
              "      <td>(1, 638, 341)</td>\n",
              "    </tr>\n",
              "    <tr>\n",
              "      <th>4</th>\n",
              "      <td>2030</td>\n",
              "      <td>ham</td>\n",
              "      <td>indian springs\\r\\nthis deal is to book the tec...</td>\n",
              "      <td>0</td>\n",
              "      <td>(1, 64303, 165774)</td>\n",
              "    </tr>\n",
              "  </tbody>\n",
              "</table>\n",
              "</div>"
            ],
            "text/plain": [
              "   Unnamed: 0 label                                               text  \\\n",
              "0         605   ham  enron methanol  meter   \\r\\nthis is a follow u...   \n",
              "1        2349   ham  hpl nom for january   \\r\\n see attached file  ...   \n",
              "2        3624   ham  neon retreat\\r\\nho ho ho  we  re around to tha...   \n",
              "3        4685  spam  photoshop  windows  office  cheap  main trendi...   \n",
              "4        2030   ham  indian springs\\r\\nthis deal is to book the tec...   \n",
              "\n",
              "   label_num              features  \n",
              "0          0    (1, 46320, 136187)  \n",
              "1          0      (1, 2815, 16376)  \n",
              "2          0  (1, 635297, 1466796)  \n",
              "3          1         (1, 638, 341)  \n",
              "4          0    (1, 64303, 165774)  "
            ]
          },
          "execution_count": 103,
          "metadata": {},
          "output_type": "execute_result"
        }
      ],
      "source": [
        "df.head()"
      ]
    },
    {
      "cell_type": "markdown",
      "metadata": {
        "id": "OYIxb-Z4S-Ey"
      },
      "source": [
        "# Function for train and test split"
      ]
    },
    {
      "cell_type": "code",
      "execution_count": 104,
      "metadata": {
        "id": "by34Pr2rTOXy"
      },
      "outputs": [],
      "source": [
        "# importing random function to shuffle the data set\n",
        "import random"
      ]
    },
    {
      "cell_type": "code",
      "execution_count": 105,
      "metadata": {
        "id": "cp0Bn-GjTmGz"
      },
      "outputs": [],
      "source": [
        "def train_test_split(corpus):\n",
        "\"\"\"\n",
        "    Splits a corpus into training and test sets.\n",
        "\n",
        "    :param corpus: The input corpus \n",
        "    :return: A tuple containing the training set and the test set.\n",
        "    \"\"\"\n",
        "    \n",
        "  # intializing split in this case I have chosen to split 70% for training and 30% for testing \n",
        "  split = 0.7\n",
        "  \n",
        "  #Shuffle the corpus to ensure randomization\n",
        "  corpus = corpus.sample(frac=1)\n",
        "\n",
        "  # Finding the index at which the corupus needs to be splot\n",
        "  split_index = int(split* len(corpus))\n",
        "\n",
        "  # Split the corpus into training and test sets\n",
        "  train_set = corpus[:split_index]\n",
        "  test_set = corpus[split_index:]\n",
        "\n",
        "  return train_set, test_set\n"
      ]
    },
    {
      "cell_type": "markdown",
      "metadata": {
        "id": "Rl6dhb84UIUv"
      },
      "source": [
        "## Checking train and test split"
      ]
    },
    {
      "cell_type": "code",
      "execution_count": 106,
      "metadata": {
        "id": "QjODKeV_UIA4"
      },
      "outputs": [],
      "source": [
        "corpus = df\n",
        "train_set, test_set = train_test_split(corpus)"
      ]
    },
    {
      "cell_type": "markdown",
      "metadata": {
        "id": "AsBziInsWiJu"
      },
      "source": [
        "## Checking train/test split"
      ]
    },
    {
      "cell_type": "code",
      "execution_count": 107,
      "metadata": {
        "colab": {
          "base_uri": "https://localhost:8080/"
        },
        "id": "4tut0cPxWkI2",
        "outputId": "3b6237c0-2925-4922-ce4a-f54693380ed8"
      },
      "outputs": [
        {
          "data": {
            "text/plain": [
              "(3619, 5)"
            ]
          },
          "execution_count": 107,
          "metadata": {},
          "output_type": "execute_result"
        }
      ],
      "source": [
        "train_set.shape"
      ]
    },
    {
      "cell_type": "code",
      "execution_count": 108,
      "metadata": {
        "colab": {
          "base_uri": "https://localhost:8080/"
        },
        "id": "colf1FbFWh9Y",
        "outputId": "ab77b967-ffec-487c-bed4-c836eb0bd879"
      },
      "outputs": [
        {
          "data": {
            "text/plain": [
              "(1552, 5)"
            ]
          },
          "execution_count": 108,
          "metadata": {},
          "output_type": "execute_result"
        }
      ],
      "source": [
        "test_set.shape"
      ]
    },
    {
      "cell_type": "markdown",
      "metadata": {
        "id": "3FJad0R4WtRD"
      },
      "source": [
        "# Logreg class"
      ]
    },
    {
      "cell_type": "code",
      "execution_count": 109,
      "metadata": {
        "id": "3yfNuLgXTE3p"
      },
      "outputs": [],
      "source": [
        "import numpy as np\n",
        "\n",
        "\n",
        "# Extract the training set features \n",
        "X = train_set['features'].values\n",
        "\n",
        "# Reshape the features into a 2D array with a single column \n",
        "X = X.reshape(-1, 1)\n",
        "\n",
        "# Extract labels from the training set labels \n",
        "y = train_set['label_num']\n",
        "\n",
        "# coverting the labels into type numpy\n",
        "y = np.array(y)\n",
        "\n",
        "# Extract  testing set features \n",
        "x_test = test_set['features'].values\n",
        "\n",
        "x_test = x_test.reshape(-1,1)\n",
        "\n",
        "y_test = test_set['label_num']\n",
        "\n",
        "y_test = np.array(y_test)\n",
        "\n",
        "\n"
      ]
    },
    {
      "cell_type": "code",
      "execution_count": 110,
      "metadata": {
        "id": "gVL1fnBUfYYs"
      },
      "outputs": [],
      "source": [
        "\n",
        "class logreg:\n",
        "  def __init__(self, learning_rate=0.01, epochs=1000):\n",
        "      \"\"\"\n",
        "        Initializes the LogisticRegression class.\n",
        "        :param learning_rate: Learning rate for gradient descent (default: 0.01).\n",
        "        :param epochs: Number of training epochs (default: 1000).\n",
        "        \"\"\"\n",
        "      self.learning_rate = learning_rate\n",
        "      self.epochs = epochs\n",
        "      self.theta = np.random.rand(3)\n",
        "      self.costs = []\n",
        "\n",
        "  def sigmoid(self, Z):\n",
        "     \"\"\"\n",
        "        Calculates the sigmoid activation function.\n",
        "        :param Z: Input value.\n",
        "        :return: Sigmoid of Z.\n",
        "    \"\"\"\n",
        "      y_pred = 1 / (1 + np.exp(-Z))\n",
        "      y_pred = np.clip(y_pred, 1e-15, 1 - 1e-15) # clipping to avoid log(0) which causes an error with the cost function \n",
        "      return y_pred\n",
        "\n",
        "\n",
        "  def cost(self, y_pred, y,N):\n",
        "        \"\"\"\n",
        "        Calculates the logistic regression cost (cross-entropy) function.\n",
        "\n",
        "        :param y_pred: Predicted value from the sigmoid function\n",
        "        :param y: True Labels\n",
        "        :param N: sample size\n",
        "        :return: Cross-entropy cost.\n",
        "        \"\"\"\n",
        "      cost = -(1 / N) * np.sum(y * np.log(y_pred) + (1 - y) * np.log(1 - y_pred))\n",
        "      return cost\n",
        "\n",
        "  def gradient(self, X, y, y_pred,N):\n",
        "        \"\"\"\n",
        "        Calculates the gradient of the cost function.\n",
        "\n",
        "        :param X: Input features.\n",
        "        :param y: label\n",
        "        :param y_pred: Predicted value\n",
        "        :param N: sample size\n",
        "        :return: Gradient of the cost.\n",
        "        \"\"\"\n",
        "      gradient = (1 / N) * np.dot(X.T, (y_pred - y))\n",
        "      return gradient\n",
        "\n",
        "  def update(self, theta, gradient):\n",
        "        \"\"\"\n",
        "        Updates the model parameters using gradient descent.\n",
        "\n",
        "        :param theta: calculated vector that determines function\n",
        "        :param gradient: Gradient desent of the cost function\n",
        "        :return: Updated theta\n",
        "        \"\"\"\n",
        "      theta -= self.learning_rate * gradient\n",
        "      return theta\n",
        "\n",
        "  def fit(self, X, y):\n",
        "       \"\"\"\n",
        "        Fits the logistic regression model to the training data.\n",
        "\n",
        "        :param X: Input features.\n",
        "        :param y: Actual labels.\n",
        "        :return: Trained theta\n",
        "        \"\"\"\n",
        "      N =  len(X) # Number of samples in the training data.\n",
        "      self.theta = np.random.rand(3)  # assingning 3 random values for theta\n",
        "\n",
        "\n",
        "      for _ in range(self.epochs):\n",
        "          total_cost = 0\n",
        "          for j in range(N):\n",
        "              arr = (X[j])\n",
        "              arr_int = np.array([list(x) for x in arr], dtype=int)\n",
        "              X_j = arr_int.reshape(3,)\n",
        "              y_j = y[j]\n",
        "              Z = np.dot(X_j, self.theta)\n",
        "              y_pred = self.sigmoid(Z)\n",
        "              cost = self.cost(y_pred, y_j,N)\n",
        "              gradient = self.gradient(X_j, y_j, y_pred,N)\n",
        "              self.theta = self.update(self.theta, gradient) \n",
        "      return self.theta\n",
        "\n",
        "\n",
        "  def accuracy(y_test,predicted_y):\n",
        "        \"\"\"\n",
        "        Calculates the accuracy of the model.\n",
        "\n",
        "        :param y_test: true labels.\n",
        "        :param predicted_y: Predicted labels.\n",
        "        :return: Accuracy.\n",
        "        \"\"\"\n",
        "    correct_predictions = 0\n",
        "    N = len(y_test)\n",
        "    for i in range(N):\n",
        "      if y_test[i] == predicted_y[i]:\n",
        "        correct_predictions += 1\n",
        "    accuracy = correct_predictions / N\n",
        "      \n",
        "    return accuracy\n",
        "\n",
        "  def confusion_matrix(y_test,predicted_y):\n",
        "        \"\"\"\n",
        "        Calculates the confusion matrix of the testing set\n",
        "\n",
        "        :param y_test: True labels.\n",
        "        :param predicted_y: Predicted labels.\n",
        "        :return: Confusion matrix [TP, TN, FP, FN].\n",
        "        \"\"\"\n",
        "    TP = 0\n",
        "    TN = 0\n",
        "    FP = 0\n",
        "    FN = 0\n",
        "\n",
        "    N = len(y_test)\n",
        "      # Calculate TP, TN, FP, and FN\n",
        "    for i in range(N):\n",
        "      if y_test[i] == 1 and predicted_y[i] == 1:\n",
        "        TP += 1\n",
        "      elif y_test[i] == 0 and predicted_y[i] == 0:\n",
        "        TN += 1\n",
        "      elif y_test[i] == 0 and predicted_y[i] == 1:\n",
        "        FP += 1\n",
        "      elif y_test[i] == 1 and predicted_y[i] == 0:\n",
        "        FN += 1\n",
        "\n",
        "      # Print the confusion matrix\n",
        "    return [TP,TN,FP,FN]\n",
        "\n",
        "\n",
        "\n",
        "  def evaluate(x_test,y_test,theta) :\n",
        "      \"\"\"\n",
        "        Evaluates the logistic regression model on the test data.\n",
        "\n",
        "        :param x_test: Test features.\n",
        "        :param y_test: True  labels.\n",
        "        :param theta: From fitting the training model\n",
        "        :return: Accuracy and confusion matrix.\n",
        "      \"\"\"\n",
        "    predictions = []\n",
        "    T = len(x_test)\n",
        "    theta = theta\n",
        "    for j in range(T):\n",
        "      arr = (x_test[j])\n",
        "      arr_int = np.array([list(x) for x in arr], dtype=int)\n",
        "      X_j = arr_int.reshape(3,)\n",
        "      y_j = y_test[j]\n",
        "      Z = np.dot(X_j,theta)\n",
        "      y_pred = 1 / (1 + np.exp(-Z))\n",
        "      predictions.append(y_pred)\n",
        "\n",
        "    predictions =np.array(predictions)\n",
        "    predictions = np.greater_equal(predictions, 0.5).astype(int)\n",
        "\n",
        "    acc = accuracy(y_test,predictions)\n",
        "    c_m = confusion_matrix(y_test,predictions)\n",
        "\n",
        "    return acc,c_m\n",
        "\n",
        "\n",
        "\n",
        "\n"
      ]
    },
    {
      "cell_type": "code",
      "execution_count": 111,
      "metadata": {
        "colab": {
          "base_uri": "https://localhost:8080/"
        },
        "id": "8aFKp5TqfdX9",
        "outputId": "59b29895-eb92-4e4d-bb67-486a270cb333"
      },
      "outputs": [
        {
          "name": "stderr",
          "output_type": "stream",
          "text": [
            "C:\\Users\\jaide\\AppData\\Local\\Temp\\ipykernel_6636\\2183666881.py:9: RuntimeWarning: overflow encountered in exp\n",
            "  y_pred = 1 / (1 + np.exp(-Z))\n",
            "C:\\Users\\jaide\\AppData\\Local\\Temp\\ipykernel_6636\\3637595894.py:11: RuntimeWarning: overflow encountered in exp\n",
            "  y_pred = 1 / (1 + np.exp(-Z))\n"
          ]
        }
      ],
      "source": [
        "# Create an instance of the 'LogisticRegression' class assigned learning rate and epochs\n",
        "model = logreg(learning_rate =0.01, epochs = 100)\n",
        "\n",
        "# storing the theta vector from fitting the model to training dataset\n",
        "theta = model.fit(X,y)\n",
        "\n",
        "# evaluating the model to on the testing data set and storing the values in metrics\n",
        "metrics =[]\n",
        "metrics = evaluate(x_test,y_test,theta)"
      ]
    },
    {
      "cell_type": "markdown",
      "metadata": {
        "id": "t4vG4XE6pqby"
      },
      "source": [
        "## Testing Metrics"
      ]
    },
    {
      "cell_type": "code",
      "execution_count": 112,
      "metadata": {
        "colab": {
          "base_uri": "https://localhost:8080/"
        },
        "id": "kOUBt2VwppXR",
        "outputId": "6884a292-770f-4dbe-c176-c6051d1b30e7"
      },
      "outputs": [
        {
          "name": "stdout",
          "output_type": "stream",
          "text": [
            "The accuracy is 87.0%\n",
            "True Positve: 277\n",
            "True Negative: 1080\n",
            "False Positve: 10\n",
            "False negative: 185\n"
          ]
        }
      ],
      "source": [
        "# printing out the accuracy of the model\n",
        "acc = metrics[0]\n",
        "print(f'The accuracy is {(round(acc,2)*100)}%')\n",
        "\n",
        "#printing the confusion matrix of the model\n",
        "c_m = metrics[1]\n",
        "print(f'True Positve: {c_m[0]}')\n",
        "print(f'True Negative: {c_m[1]}')\n",
        "print(f'False Positve: {c_m[2]}')\n",
        "print(f'False negative: {c_m[3]}')\n",
        "\n"
      ]
    },
    {
      "cell_type": "markdown",
      "metadata": {
        "id": "dfgCZTOLKWa7"
      },
      "source": [
        "# SKlearn packages based classification"
      ]
    },
    {
      "cell_type": "code",
      "execution_count": 113,
      "metadata": {},
      "outputs": [],
      "source": [
        "# importing packages\n",
        "import pandas as pd\n",
        "from sklearn.model_selection import train_test_split\n",
        "from sklearn.feature_extraction.text import CountVectorizer\n",
        "from sklearn.linear_model import LogisticRegression\n",
        "from sklearn.metrics import accuracy_score, classification_report\n"
      ]
    },
    {
      "cell_type": "code",
      "execution_count": 114,
      "metadata": {
        "colab": {
          "base_uri": "https://localhost:8080/"
        },
        "id": "yeqN71ZbKWlm",
        "outputId": "7e0ac58c-8269-4ea6-d040-cc68a2a18f73"
      },
      "outputs": [],
      "source": [
        "# Load the dataset\n",
        "url = 'https://raw.githubusercontent.com/jaideep-siva/Assignment_1/main/spam_ham_dataset.csv'\n",
        "data = pd.read_csv(url)\n",
        "\n",
        "\n",
        "\n",
        "# Define features and labels \n",
        "X = data['text']\n",
        "y = data['label_num']\n",
        "\n",
        "# Split the data into training and testing sets\n",
        "X_train, X_test, y_train, y_test = train_test_split(X, y, test_size=0.2, random_state=42)"
      ]
    },
    {
      "cell_type": "code",
      "execution_count": 115,
      "metadata": {},
      "outputs": [],
      "source": [
        "# Initialize the CountVectorizer\n",
        "vectorizer = CountVectorizer()\n",
        "\n",
        "# Fit and transform the training data\n",
        "X_train_vectorized = vectorizer.fit_transform(X_train)\n",
        "\n",
        "# Transform the test data\n",
        "X_test_vectorized = vectorizer.transform(X_test)"
      ]
    },
    {
      "cell_type": "code",
      "execution_count": 89,
      "metadata": {},
      "outputs": [
        {
          "name": "stderr",
          "output_type": "stream",
          "text": [
            "c:\\Users\\jaide\\AppData\\Local\\Programs\\Python\\Python311\\Lib\\site-packages\\sklearn\\linear_model\\_logistic.py:460: ConvergenceWarning: lbfgs failed to converge (status=1):\n",
            "STOP: TOTAL NO. of ITERATIONS REACHED LIMIT.\n",
            "\n",
            "Increase the number of iterations (max_iter) or scale the data as shown in:\n",
            "    https://scikit-learn.org/stable/modules/preprocessing.html\n",
            "Please also refer to the documentation for alternative solver options:\n",
            "    https://scikit-learn.org/stable/modules/linear_model.html#logistic-regression\n",
            "  n_iter_i = _check_optimize_result(\n"
          ]
        },
        {
          "data": {
            "text/html": [
              "<style>#sk-container-id-1 {color: black;}#sk-container-id-1 pre{padding: 0;}#sk-container-id-1 div.sk-toggleable {background-color: white;}#sk-container-id-1 label.sk-toggleable__label {cursor: pointer;display: block;width: 100%;margin-bottom: 0;padding: 0.3em;box-sizing: border-box;text-align: center;}#sk-container-id-1 label.sk-toggleable__label-arrow:before {content: \"▸\";float: left;margin-right: 0.25em;color: #696969;}#sk-container-id-1 label.sk-toggleable__label-arrow:hover:before {color: black;}#sk-container-id-1 div.sk-estimator:hover label.sk-toggleable__label-arrow:before {color: black;}#sk-container-id-1 div.sk-toggleable__content {max-height: 0;max-width: 0;overflow: hidden;text-align: left;background-color: #f0f8ff;}#sk-container-id-1 div.sk-toggleable__content pre {margin: 0.2em;color: black;border-radius: 0.25em;background-color: #f0f8ff;}#sk-container-id-1 input.sk-toggleable__control:checked~div.sk-toggleable__content {max-height: 200px;max-width: 100%;overflow: auto;}#sk-container-id-1 input.sk-toggleable__control:checked~label.sk-toggleable__label-arrow:before {content: \"▾\";}#sk-container-id-1 div.sk-estimator input.sk-toggleable__control:checked~label.sk-toggleable__label {background-color: #d4ebff;}#sk-container-id-1 div.sk-label input.sk-toggleable__control:checked~label.sk-toggleable__label {background-color: #d4ebff;}#sk-container-id-1 input.sk-hidden--visually {border: 0;clip: rect(1px 1px 1px 1px);clip: rect(1px, 1px, 1px, 1px);height: 1px;margin: -1px;overflow: hidden;padding: 0;position: absolute;width: 1px;}#sk-container-id-1 div.sk-estimator {font-family: monospace;background-color: #f0f8ff;border: 1px dotted black;border-radius: 0.25em;box-sizing: border-box;margin-bottom: 0.5em;}#sk-container-id-1 div.sk-estimator:hover {background-color: #d4ebff;}#sk-container-id-1 div.sk-parallel-item::after {content: \"\";width: 100%;border-bottom: 1px solid gray;flex-grow: 1;}#sk-container-id-1 div.sk-label:hover label.sk-toggleable__label {background-color: #d4ebff;}#sk-container-id-1 div.sk-serial::before {content: \"\";position: absolute;border-left: 1px solid gray;box-sizing: border-box;top: 0;bottom: 0;left: 50%;z-index: 0;}#sk-container-id-1 div.sk-serial {display: flex;flex-direction: column;align-items: center;background-color: white;padding-right: 0.2em;padding-left: 0.2em;position: relative;}#sk-container-id-1 div.sk-item {position: relative;z-index: 1;}#sk-container-id-1 div.sk-parallel {display: flex;align-items: stretch;justify-content: center;background-color: white;position: relative;}#sk-container-id-1 div.sk-item::before, #sk-container-id-1 div.sk-parallel-item::before {content: \"\";position: absolute;border-left: 1px solid gray;box-sizing: border-box;top: 0;bottom: 0;left: 50%;z-index: -1;}#sk-container-id-1 div.sk-parallel-item {display: flex;flex-direction: column;z-index: 1;position: relative;background-color: white;}#sk-container-id-1 div.sk-parallel-item:first-child::after {align-self: flex-end;width: 50%;}#sk-container-id-1 div.sk-parallel-item:last-child::after {align-self: flex-start;width: 50%;}#sk-container-id-1 div.sk-parallel-item:only-child::after {width: 0;}#sk-container-id-1 div.sk-dashed-wrapped {border: 1px dashed gray;margin: 0 0.4em 0.5em 0.4em;box-sizing: border-box;padding-bottom: 0.4em;background-color: white;}#sk-container-id-1 div.sk-label label {font-family: monospace;font-weight: bold;display: inline-block;line-height: 1.2em;}#sk-container-id-1 div.sk-label-container {text-align: center;}#sk-container-id-1 div.sk-container {/* jupyter's `normalize.less` sets `[hidden] { display: none; }` but bootstrap.min.css set `[hidden] { display: none !important; }` so we also need the `!important` here to be able to override the default hidden behavior on the sphinx rendered scikit-learn.org. See: https://github.com/scikit-learn/scikit-learn/issues/21755 */display: inline-block !important;position: relative;}#sk-container-id-1 div.sk-text-repr-fallback {display: none;}</style><div id=\"sk-container-id-1\" class=\"sk-top-container\"><div class=\"sk-text-repr-fallback\"><pre>LogisticRegression(random_state=0)</pre><b>In a Jupyter environment, please rerun this cell to show the HTML representation or trust the notebook. <br />On GitHub, the HTML representation is unable to render, please try loading this page with nbviewer.org.</b></div><div class=\"sk-container\" hidden><div class=\"sk-item\"><div class=\"sk-estimator sk-toggleable\"><input class=\"sk-toggleable__control sk-hidden--visually\" id=\"sk-estimator-id-1\" type=\"checkbox\" checked><label for=\"sk-estimator-id-1\" class=\"sk-toggleable__label sk-toggleable__label-arrow\">LogisticRegression</label><div class=\"sk-toggleable__content\"><pre>LogisticRegression(random_state=0)</pre></div></div></div></div></div>"
            ],
            "text/plain": [
              "LogisticRegression(random_state=0)"
            ]
          },
          "execution_count": 89,
          "metadata": {},
          "output_type": "execute_result"
        }
      ],
      "source": [
        "# Initialize and train the Logistic Regression model\n",
        "clf = LogisticRegression(random_state=0)\n",
        "clf.fit(X_train_vectorized, y_train)"
      ]
    },
    {
      "cell_type": "code",
      "execution_count": 130,
      "metadata": {},
      "outputs": [
        {
          "name": "stdout",
          "output_type": "stream",
          "text": [
            "Accuracy: 98.0\n",
            "              precision    recall  f1-score   support\n",
            "\n",
            "           0       0.99      0.99      0.99       742\n",
            "           1       0.97      0.97      0.97       293\n",
            "\n",
            "    accuracy                           0.98      1035\n",
            "   macro avg       0.98      0.98      0.98      1035\n",
            "weighted avg       0.98      0.98      0.98      1035\n",
            "\n"
          ]
        }
      ],
      "source": [
        "y_pred = clf.predict(X_test_vectorized)\n",
        "\n",
        "# Calculate accuracy and print a classification report\n",
        "accuracy = accuracy_score(y_test, y_pred)\n",
        "report = classification_report(y_test, y_pred)\n",
        "\n",
        "print(f\"Accuracy: {(round(accuracy,2)*100)}\")\n",
        "print(report)"
      ]
    }
  ],
  "metadata": {
    "colab": {
      "provenance": [],
      "toc_visible": true
    },
    "kernelspec": {
      "display_name": "Python 3",
      "name": "python3"
    },
    "language_info": {
      "codemirror_mode": {
        "name": "ipython",
        "version": 3
      },
      "file_extension": ".py",
      "mimetype": "text/x-python",
      "name": "python",
      "nbconvert_exporter": "python",
      "pygments_lexer": "ipython3",
      "version": "3.11.2"
    }
  },
  "nbformat": 4,
  "nbformat_minor": 0
}
